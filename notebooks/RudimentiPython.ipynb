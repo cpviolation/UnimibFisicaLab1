{
 "cells": [
  {
   "cell_type": "markdown",
   "metadata": {
    "id": "Rl4jxIWmK9aB",
    "slideshow": {
     "slide_type": "slide"
    }
   },
   "source": [
    "# Rudimenti di Python per Laboratorio I\n",
    "\n",
    "In questa lezione sono forniti alcuni rudimenti di python che permettono di svolgere semplici operazioni di analisi dei dati. Non viene data alcuna introduzione al linguaggio di programmazione e molte definizioni saranno *operative*, cioè volte ad esemplificare come si può svolgere uno dei compiti richiesti utilizzando python come strumento piuttosto che capire come effettivamente funziona il linguaggio."
   ]
  },
  {
   "cell_type": "markdown",
   "metadata": {
    "slideshow": {
     "slide_type": "slide"
    }
   },
   "source": [
    "## 0 Installazione di Python\n",
    "\n",
    "È possibile utilizzare [Python](https://www.python.org) senza effettuare alcuna installazione utilizzando la piattaforma [`Colaboratory`](https://colab.research.google.com) di Google (che permette anche di condividere i fogli di lavoro).\n",
    "\n",
    "Qualora fosse necessario installarlo sul computer personale, Python è facilmente installabile su qualsiasi sistema operativo se non vi è già presente (OSX, Linux).\n",
    "\n",
    "Quando viene aperta una sessione di Colaboratory, selezionando `blocco note` si aprirà una pagina simile a questa, dove si possono alternare celle contenenti testo a celle contenenti codice. Per formattare il testo o eseguire il codice nella cella si clicca `<shift+enter>`"
   ]
  },
  {
   "cell_type": "markdown",
   "metadata": {
    "id": "cvbaO2vLK9aE",
    "slideshow": {
     "slide_type": "slide"
    }
   },
   "source": [
    "## 1 Utilizzo di Base\n",
    "\n",
    "Una cella di comando può essere utilizzata per effettuare alcune operazioni di base, come\n",
    " - operazioni aritmetiche"
   ]
  },
  {
   "cell_type": "code",
   "execution_count": 1,
   "metadata": {
    "colab": {
     "base_uri": "https://localhost:8080/"
    },
    "id": "pjvUUqrFK9aE",
    "outputId": "47cdf4b6-1b4d-43b7-837e-fa6108740866",
    "slideshow": {
     "slide_type": "fragment"
    }
   },
   "outputs": [
    {
     "data": {
      "text/plain": [
       "5"
      ]
     },
     "execution_count": 1,
     "metadata": {},
     "output_type": "execute_result"
    }
   ],
   "source": [
    "2+3"
   ]
  },
  {
   "cell_type": "markdown",
   "metadata": {
    "slideshow": {
     "slide_type": "fragment"
    }
   },
   "source": [
    "- di definizione di variabili"
   ]
  },
  {
   "cell_type": "code",
   "execution_count": 2,
   "metadata": {
    "id": "NSSzUVo2K9aF",
    "slideshow": {
     "slide_type": "fragment"
    }
   },
   "outputs": [],
   "source": [
    "a= 6"
   ]
  },
  {
   "cell_type": "markdown",
   "metadata": {
    "slideshow": {
     "slide_type": "fragment"
    }
   },
   "source": [
    "- o entrambe"
   ]
  },
  {
   "cell_type": "code",
   "execution_count": 3,
   "metadata": {
    "id": "Wtl8xL3gK9aF",
    "slideshow": {
     "slide_type": "fragment"
    }
   },
   "outputs": [],
   "source": [
    "a = 4+5"
   ]
  },
  {
   "cell_type": "markdown",
   "metadata": {
    "id": "eiv_c7JWK9aF",
    "slideshow": {
     "slide_type": "slide"
    }
   },
   "source": [
    "Per stampare il valore di una variabile in un dato momento si può utilizzare il comando `print`"
   ]
  },
  {
   "cell_type": "code",
   "execution_count": 4,
   "metadata": {
    "colab": {
     "base_uri": "https://localhost:8080/"
    },
    "id": "SYYkw6fOK9aG",
    "outputId": "e6b605dc-287e-47ca-8c8a-4aae8579abff",
    "slideshow": {
     "slide_type": "fragment"
    }
   },
   "outputs": [
    {
     "name": "stdout",
     "output_type": "stream",
     "text": [
      "9\n",
      "a = 9\n",
      "a = 9\n",
      "a = 9\n"
     ]
    }
   ],
   "source": [
    "print(a)\n",
    "print('a = {}'.format(a))\n",
    "print(\"a = {}\".format(a)) # format\n",
    "print(f'a = {a}') # f-string"
   ]
  },
  {
   "cell_type": "markdown",
   "metadata": {
    "id": "-LABJmoGK9aG",
    "slideshow": {
     "slide_type": "fragment"
    }
   },
   "source": [
    "per maggiori dettagli sull'utilizzo della funzione `format` si può consultare la [documentazione](https://docs.python.org/3/library/string.html) ([qui](https://docs.python.org/3.11/tutorial/inputoutput.html) quella delle `f-string`).\n",
    "\n",
    "Tutto ciò che segue il carattere `#` nella linea è un commento: viene ignorato dal calcolatore, ma è utile al programmatore."
   ]
  },
  {
   "cell_type": "markdown",
   "metadata": {
    "slideshow": {
     "slide_type": "slide"
    }
   },
   "source": [
    "È importante osservare che nel notebook le celle possono non essere eseguite in maniera sequenziale per cui talvolta può capitare di compiere errori di cambiamenti di valore di una variabile o non definizione della stessa, per cui si consiglia di cliccare su `Runtime->Restart and Run all` (`Kernel->Restart & Run All` in Jupyter notebook) nella barra degli strumenti quando si abbia qualche dubbio."
   ]
  },
  {
   "cell_type": "code",
   "execution_count": 5,
   "metadata": {
    "id": "NSSzUVo2K9aF",
    "slideshow": {
     "slide_type": "fragment"
    }
   },
   "outputs": [],
   "source": [
    "a= 6"
   ]
  },
  {
   "cell_type": "code",
   "execution_count": 6,
   "metadata": {
    "id": "Wtl8xL3gK9aF",
    "slideshow": {
     "slide_type": "fragment"
    }
   },
   "outputs": [],
   "source": [
    "a = 4+5"
   ]
  },
  {
   "cell_type": "code",
   "execution_count": 7,
   "metadata": {
    "colab": {
     "base_uri": "https://localhost:8080/"
    },
    "id": "SYYkw6fOK9aG",
    "outputId": "e6b605dc-287e-47ca-8c8a-4aae8579abff",
    "slideshow": {
     "slide_type": "fragment"
    }
   },
   "outputs": [
    {
     "name": "stdout",
     "output_type": "stream",
     "text": [
      "a = 9\n"
     ]
    }
   ],
   "source": [
    "print(f'a = {a}') # f-string"
   ]
  },
  {
   "cell_type": "markdown",
   "metadata": {
    "id": "I5dAFKe1K9aG",
    "slideshow": {
     "slide_type": "slide"
    }
   },
   "source": [
    "### 1.1 Tipi di Variabile\n",
    "\n",
    "In python (e nei linguaggi di programmazione in generale) le variabili possono essere di diversi tipi:\n",
    " - intere `int`\n",
    " - a virgola mobile `float`\n",
    " - stringhe `str`\n",
    " - booleane `bool`\n",
    " \n",
    "A seconda di come una variabile è definita il linguaggio di programmazione istruisce il calcolatore su quali sono le operazioni possibili.\n",
    "\n",
    "In python non c'è bisogno di informare il linguaggio del tipo di variabile, in quanto è in grado di determinarlo in fase di assegnazione del valore."
   ]
  },
  {
   "cell_type": "code",
   "execution_count": 8,
   "metadata": {
    "colab": {
     "base_uri": "https://localhost:8080/"
    },
    "id": "bY19omNPK9aH",
    "outputId": "291395bb-f8ee-43af-af8b-c38136684cc1",
    "slideshow": {
     "slide_type": "subslide"
    }
   },
   "outputs": [
    {
     "name": "stdout",
     "output_type": "stream",
     "text": [
      "a = 1 è <class 'int'>\n",
      "b = 1.2 è <class 'float'>\n",
      "c = a è <class 'str'>\n",
      "d = True è <class 'bool'>\n"
     ]
    }
   ],
   "source": [
    "a = 1\n",
    "b = 1.2\n",
    "c = 'a'\n",
    "d = True\n",
    "print('a = {} è {}'.format(a,type(a)))# la funzione type restituisce il tipo di variabile\n",
    "print('b = {} è {}'.format(b,type(b)))\n",
    "print('c = {} è {}'.format(c,type(c)))\n",
    "print('d = {} è {}'.format(d,type(d)))"
   ]
  },
  {
   "cell_type": "markdown",
   "metadata": {
    "id": "8WxNZlLoK9aH",
    "slideshow": {
     "slide_type": "slide"
    }
   },
   "source": [
    "### 1.2 Vettori (Liste) e Dizionari\n",
    "\n",
    "Python permette di definire delle variabile vettore, cioè delle variabili che contengono una lista di valori, variabili o oggetti.\n",
    "Possono essere omogenee"
   ]
  },
  {
   "cell_type": "code",
   "execution_count": 9,
   "metadata": {
    "colab": {
     "base_uri": "https://localhost:8080/"
    },
    "id": "ahDJfdASK9aH",
    "outputId": "979c23a5-31fc-4a4c-e1ea-170993a08b3a",
    "slideshow": {
     "slide_type": "fragment"
    }
   },
   "outputs": [
    {
     "name": "stdout",
     "output_type": "stream",
     "text": [
      "[1, 2, 3]\n"
     ]
    }
   ],
   "source": [
    "A = [1,2,3]\n",
    "print(A)"
   ]
  },
  {
   "cell_type": "markdown",
   "metadata": {
    "id": "hH3C5oPLK9aI",
    "slideshow": {
     "slide_type": "subslide"
    }
   },
   "source": [
    "o eterogenee, cioè composte da elementi di tipo diverso"
   ]
  },
  {
   "cell_type": "code",
   "execution_count": 10,
   "metadata": {
    "colab": {
     "base_uri": "https://localhost:8080/"
    },
    "id": "oPE1vq4sK9aI",
    "outputId": "714632e0-ebdd-43e1-8136-da7aeaf08708",
    "slideshow": {
     "slide_type": "fragment"
    }
   },
   "outputs": [
    {
     "name": "stdout",
     "output_type": "stream",
     "text": [
      "[1, 2.3, 'a', [1, 2, 3]]\n"
     ]
    }
   ],
   "source": [
    "B = [1,2.3,'a',A]\n",
    "print(B)"
   ]
  },
  {
   "cell_type": "markdown",
   "metadata": {
    "id": "6BYLK9cTK9aJ",
    "slideshow": {
     "slide_type": "subslide"
    }
   },
   "source": [
    "Gli elementi di un vettore possono essere richiamati specificando la posizione dell'elemento nel vettore (partendo da 0)"
   ]
  },
  {
   "cell_type": "code",
   "execution_count": 11,
   "metadata": {
    "colab": {
     "base_uri": "https://localhost:8080/"
    },
    "id": "qz6yUnhxK9aJ",
    "outputId": "0b783107-dd44-40ac-aba3-2ae0c422de71",
    "slideshow": {
     "slide_type": "fragment"
    }
   },
   "outputs": [
    {
     "data": {
      "text/plain": [
       "1"
      ]
     },
     "execution_count": 11,
     "metadata": {},
     "output_type": "execute_result"
    }
   ],
   "source": [
    "B[0]"
   ]
  },
  {
   "cell_type": "markdown",
   "metadata": {
    "id": "s9g-Y6IjK9aJ",
    "slideshow": {
     "slide_type": "subslide"
    }
   },
   "source": [
    "Un particolare tipo di lista è il *dizionario*, cioè una lista nella quale ad ogni elemento ne è associato un altro"
   ]
  },
  {
   "cell_type": "code",
   "execution_count": 12,
   "metadata": {
    "colab": {
     "base_uri": "https://localhost:8080/"
    },
    "id": "6BmmKOOuK9aK",
    "outputId": "99311a05-4dcd-4086-dbf7-923ae6c57f36",
    "slideshow": {
     "slide_type": "fragment"
    }
   },
   "outputs": [
    {
     "name": "stdout",
     "output_type": "stream",
     "text": [
      "{'a': 1, 'b': 2.0, 1: 3}\n"
     ]
    }
   ],
   "source": [
    "D={'a':1, 'b': 2.0, 1: 3}\n",
    "print(D)"
   ]
  },
  {
   "cell_type": "markdown",
   "metadata": {
    "id": "O4bMOvpYK9aK",
    "slideshow": {
     "slide_type": "subslide"
    }
   },
   "source": [
    "Per richiamare un elemento del dizionario si utilizza una sintassi simile a quella delle liste, dove si evidenzia però l'importanza dell'associazione tra i due elementi"
   ]
  },
  {
   "cell_type": "code",
   "execution_count": 13,
   "metadata": {
    "colab": {
     "base_uri": "https://localhost:8080/"
    },
    "id": "9LyZL9xFK9aK",
    "outputId": "f71bc584-b360-4dad-b6fd-a1762f05a6ef",
    "slideshow": {
     "slide_type": "fragment"
    }
   },
   "outputs": [
    {
     "name": "stdout",
     "output_type": "stream",
     "text": [
      "1\n",
      "3\n"
     ]
    }
   ],
   "source": [
    "print(D['a'])\n",
    "print(D[1])"
   ]
  },
  {
   "cell_type": "markdown",
   "metadata": {
    "id": "_tLBFISSK9aK",
    "slideshow": {
     "slide_type": "subslide"
    }
   },
   "source": [
    "Per conoscere gli elementi che è possibile cercare nel dizionario si usa il comando `keys()` (la dimensione di un vettore è invece data dal comando `len()`"
   ]
  },
  {
   "cell_type": "code",
   "execution_count": 14,
   "metadata": {
    "colab": {
     "base_uri": "https://localhost:8080/"
    },
    "id": "22-3PxVcK9aL",
    "outputId": "5f567d29-5590-4262-effa-db2423b275f7",
    "slideshow": {
     "slide_type": "fragment"
    }
   },
   "outputs": [
    {
     "name": "stdout",
     "output_type": "stream",
     "text": [
      "dict_keys(['a', 'b', 1])\n",
      "4\n"
     ]
    }
   ],
   "source": [
    "print(D.keys())\n",
    "print(len(B))"
   ]
  },
  {
   "cell_type": "markdown",
   "metadata": {
    "id": "1uFdMUV4K9aL",
    "slideshow": {
     "slide_type": "slide"
    }
   },
   "source": [
    "### 1.3 Funzioni e Librerie\n",
    "\n",
    "Il vantaggio di utilizzare python per il calcolo scientifico è che possiede molte librerie di funzioni scritte e verificate dalla comunità, per cui non si corre il rischio di \"reinventare la ruota\" ogni qual volta sia necessario  scrivere una funzione per svolgere una determinata operazione. Ad esempio la libreria [numpy](https://numpy.org) contiene varie funzioni matematiche di utilizzo comune scritte con una sintassi che permette un'efficiente operazione tra vettori."
   ]
  },
  {
   "cell_type": "code",
   "execution_count": 15,
   "metadata": {
    "colab": {
     "base_uri": "https://localhost:8080/"
    },
    "id": "O3wqIVKzK9aL",
    "outputId": "d550b08b-19a4-45fb-ebc6-9cee0fa99a41",
    "slideshow": {
     "slide_type": "subslide"
    }
   },
   "outputs": [
    {
     "name": "stdout",
     "output_type": "stream",
     "text": [
      "1.7320508075688772\n",
      "[1.         1.41421356 1.73205081]\n"
     ]
    },
    {
     "data": {
      "text/plain": [
       "array([1.        , 1.41421356, 1.73205081])"
      ]
     },
     "execution_count": 15,
     "metadata": {},
     "output_type": "execute_result"
    }
   ],
   "source": [
    "import numpy as np\n",
    "print(np.sqrt(3))\n",
    "print(np.sqrt(np.array([1,2,3])))\n",
    "np.sqrt(np.array([1,2,3]))"
   ]
  },
  {
   "cell_type": "markdown",
   "metadata": {
    "id": "utPjPOiQK9aM",
    "slideshow": {
     "slide_type": "fragment"
    }
   },
   "source": [
    "Nel primo caso ho inserito come argomento della funzione `np.sqrt` un numero `int` e la funzione ha restituito un `float`. Nel secondo caso ho fornito un `numpy.array` ed ho ottenuto un altro vettore con i risultati dell'operazione per ciascun elemento del primo.\n",
    "\n",
    "Si osservi come il *modulo* `numpy` venga caricato tramite la funzione di python `import` e le venga dato il nome `np` per brevità. Dopo questo comando ogni funzione contenuta nel modulo `numpy` può essere chiamata utilizzando la sintassi `modulo.funzione(<argomento>)`.\n",
    "Ovviamente non è necessario rinominare i moduli in fase di caricamento."
   ]
  },
  {
   "cell_type": "code",
   "execution_count": 16,
   "metadata": {
    "colab": {
     "base_uri": "https://localhost:8080/"
    },
    "id": "3iv1an-vK9aM",
    "outputId": "53275859-70e9-4f7e-9ecc-e014e68a0a4e",
    "slideshow": {
     "slide_type": "skip"
    }
   },
   "outputs": [
    {
     "name": "stdout",
     "output_type": "stream",
     "text": [
      "1.73205080756887719318\n"
     ]
    }
   ],
   "source": [
    "print('{:.20f}'.format(np.sqrt(3)))"
   ]
  },
  {
   "cell_type": "code",
   "execution_count": 17,
   "metadata": {
    "colab": {
     "base_uri": "https://localhost:8080/"
    },
    "id": "0uRaeil4K9aM",
    "outputId": "798cac28-2f87-4051-b9a7-7d06a95690c2",
    "slideshow": {
     "slide_type": "fragment"
    }
   },
   "outputs": [
    {
     "data": {
      "text/plain": [
       "module"
      ]
     },
     "execution_count": 17,
     "metadata": {},
     "output_type": "execute_result"
    }
   ],
   "source": [
    "import scipy\n",
    "type(scipy)"
   ]
  },
  {
   "cell_type": "markdown",
   "metadata": {
    "id": "wSAxwbZcK9aM",
    "slideshow": {
     "slide_type": "slide"
    }
   },
   "source": [
    "### 1.3.1 Funzioni definite dall'utente\n",
    "Per definire una funzione, si utilizza il comando `def`"
   ]
  },
  {
   "cell_type": "code",
   "execution_count": 18,
   "metadata": {
    "id": "Ml1IQmJ0K9aN",
    "slideshow": {
     "slide_type": "fragment"
    }
   },
   "outputs": [],
   "source": [
    "def func(x):\n",
    "    y = x*x # notare l'indentazione\n",
    "    return y"
   ]
  },
  {
   "cell_type": "markdown",
   "metadata": {
    "id": "Y6xu1y83K9aN",
    "slideshow": {
     "slide_type": "fragment"
    }
   },
   "source": [
    "si noti l'indentazione, è una caratteristica fondamentale del linguaggio e serve per separare i blocchi di codice che devono essere eseguiti in una funzione o in un ciclo"
   ]
  },
  {
   "cell_type": "code",
   "execution_count": 19,
   "metadata": {
    "colab": {
     "base_uri": "https://localhost:8080/"
    },
    "id": "R2oYwq98K9aN",
    "outputId": "ab17ae0f-51e2-425b-f7a1-8c4ae61f7a3c",
    "slideshow": {
     "slide_type": "fragment"
    }
   },
   "outputs": [
    {
     "name": "stdout",
     "output_type": "stream",
     "text": [
      "16\n"
     ]
    }
   ],
   "source": [
    "z = func(4)\n",
    "print(z)"
   ]
  },
  {
   "cell_type": "markdown",
   "metadata": {
    "id": "kzF5Yr3yK9aN",
    "slideshow": {
     "slide_type": "subslide"
    }
   },
   "source": [
    "Si osservi che la variabile `x` è passata alla funzione in modo agnostico, cioè python non si preoccupa che l'operazione che vogliamo eseguire su di essa sia valida. Questo ha grandi vantaggi, ad esempio permette di utilizzare la stessa funzione con un argomento del tutto diverso, ad esempio un vettore numpy:"
   ]
  },
  {
   "cell_type": "code",
   "execution_count": 20,
   "metadata": {
    "colab": {
     "base_uri": "https://localhost:8080/"
    },
    "id": "g21UfcZ7K9aO",
    "outputId": "352f878f-77f3-481b-90aa-f2dd6c1b0cef",
    "slideshow": {
     "slide_type": "fragment"
    }
   },
   "outputs": [
    {
     "name": "stdout",
     "output_type": "stream",
     "text": [
      "[1 4 9]\n",
      "<class 'numpy.ndarray'>\n"
     ]
    }
   ],
   "source": [
    "y = func(np.array([1,2,3]))\n",
    "print(y)\n",
    "print(type(y))"
   ]
  },
  {
   "cell_type": "markdown",
   "metadata": {
    "id": "Jak1GakKK9aO",
    "slideshow": {
     "slide_type": "subslide"
    }
   },
   "source": [
    "Ma può anche condurre ad errori nel caso venga utilizzata in modo non corretto, ad esempio se utilizzassimo come argomento una stringa"
   ]
  },
  {
   "cell_type": "code",
   "execution_count": 21,
   "metadata": {
    "id": "XKZMnUrYK9aO",
    "slideshow": {
     "slide_type": "fragment"
    }
   },
   "outputs": [
    {
     "ename": "TypeError",
     "evalue": "can't multiply sequence by non-int of type 'str'",
     "output_type": "error",
     "traceback": [
      "\u001b[0;31m---------------------------------------------------------------------------\u001b[0m",
      "\u001b[0;31mTypeError\u001b[0m                                 Traceback (most recent call last)",
      "\u001b[0;32m/var/folders/_7/p38rjv951gvbdbhfx8dwfxgh0000gn/T/ipykernel_24983/3452831302.py\u001b[0m in \u001b[0;36m<module>\u001b[0;34m\u001b[0m\n\u001b[0;32m----> 1\u001b[0;31m \u001b[0my\u001b[0m \u001b[0;34m=\u001b[0m \u001b[0mfunc\u001b[0m\u001b[0;34m(\u001b[0m\u001b[0;34m'a'\u001b[0m\u001b[0;34m)\u001b[0m\u001b[0;34m\u001b[0m\u001b[0;34m\u001b[0m\u001b[0m\n\u001b[0m",
      "\u001b[0;32m/var/folders/_7/p38rjv951gvbdbhfx8dwfxgh0000gn/T/ipykernel_24983/2598715904.py\u001b[0m in \u001b[0;36mfunc\u001b[0;34m(x)\u001b[0m\n\u001b[1;32m      1\u001b[0m \u001b[0;32mdef\u001b[0m \u001b[0mfunc\u001b[0m\u001b[0;34m(\u001b[0m\u001b[0mx\u001b[0m\u001b[0;34m)\u001b[0m\u001b[0;34m:\u001b[0m\u001b[0;34m\u001b[0m\u001b[0;34m\u001b[0m\u001b[0m\n\u001b[0;32m----> 2\u001b[0;31m     \u001b[0my\u001b[0m \u001b[0;34m=\u001b[0m \u001b[0mx\u001b[0m\u001b[0;34m*\u001b[0m\u001b[0mx\u001b[0m \u001b[0;31m# notare l'indentazione\u001b[0m\u001b[0;34m\u001b[0m\u001b[0;34m\u001b[0m\u001b[0m\n\u001b[0m\u001b[1;32m      3\u001b[0m     \u001b[0;32mreturn\u001b[0m \u001b[0my\u001b[0m\u001b[0;34m\u001b[0m\u001b[0;34m\u001b[0m\u001b[0m\n",
      "\u001b[0;31mTypeError\u001b[0m: can't multiply sequence by non-int of type 'str'"
     ]
    }
   ],
   "source": [
    "y = func('a')"
   ]
  },
  {
   "cell_type": "markdown",
   "metadata": {
    "id": "yIwwFCh0K9aO",
    "slideshow": {
     "slide_type": "fragment"
    }
   },
   "source": [
    "Furtunatamente in questo caso il calcolatore ci ha fornito un messaggio di errore abbastanza chiaro, ma talvolta ciò non avviene e si rischia di introdurre un *bug* nel sistema."
   ]
  },
  {
   "cell_type": "markdown",
   "metadata": {
    "id": "UEn4nnSnSiqQ",
    "slideshow": {
     "slide_type": "slide"
    }
   },
   "source": [
    "### 1.3.2 Librerie di funzioni definite dall'utente\n",
    "Può essere utile scrivere tutte le funzioni di interesse in una libreria. Per farlo basta scrivere la definizione della funzione in un file (e.g. `myfunctions.py`) e salvarlo nella stessa cartella del notebook.\n",
    "Per questo esempio ho creato un file scaricabile tramite il comando `wget`\n"
   ]
  },
  {
   "cell_type": "code",
   "execution_count": 22,
   "metadata": {
    "colab": {
     "base_uri": "https://localhost:8080/"
    },
    "id": "2g6o0neiSiRb",
    "outputId": "3428dd7f-acc4-4386-e57f-5a4dfd942f4d",
    "slideshow": {
     "slide_type": "fragment"
    }
   },
   "outputs": [
    {
     "name": "stdout",
     "output_type": "stream",
     "text": [
      "--2023-01-19 14:51:12--  https://raw.githubusercontent.com/UnimibFisicaLaboratori/UnimibFisicaLab1/main/files/myfunctions.py\n",
      "Resolving raw.githubusercontent.com (raw.githubusercontent.com)... 2606:50c0:8003::154, 2606:50c0:8001::154, 2606:50c0:8000::154, ...\n",
      "Connecting to raw.githubusercontent.com (raw.githubusercontent.com)|2606:50c0:8003::154|:443... connected.\n",
      "HTTP request sent, awaiting response... 200 OK\n",
      "Length: 624 [text/plain]\n",
      "Saving to: ‘myfunctions.py.3’\n",
      "\n",
      "myfunctions.py.3    100%[===================>]     624  --.-KB/s    in 0s      \n",
      "\n",
      "2023-01-19 14:51:23 (22.9 MB/s) - ‘myfunctions.py.3’ saved [624/624]\n",
      "\n"
     ]
    }
   ],
   "source": [
    "!wget https://raw.githubusercontent.com/UnimibFisicaLaboratori/UnimibFisicaLab1/main/files/myfunctions.py"
   ]
  },
  {
   "cell_type": "markdown",
   "metadata": {
    "id": "pAOYTSarYkut",
    "slideshow": {
     "slide_type": "subslide"
    }
   },
   "source": [
    "Per richiamare la funzione si utilizza la sintassi\n",
    "```\n",
    "from <library> import <function>\n",
    "```\n",
    "o \n",
    "```\n",
    "from <library> import <function> as <another_name>\n",
    "```"
   ]
  },
  {
   "cell_type": "code",
   "execution_count": 23,
   "metadata": {
    "colab": {
     "base_uri": "https://localhost:8080/"
    },
    "id": "FnCrdHi_YmqN",
    "outputId": "f75aea26-e5cc-4172-ed84-7c017e7efeff",
    "slideshow": {
     "slide_type": "fragment"
    }
   },
   "outputs": [
    {
     "name": "stdout",
     "output_type": "stream",
     "text": [
      "81\n"
     ]
    }
   ],
   "source": [
    "from myfunctions import func as f2\n",
    "print(f2(9))"
   ]
  },
  {
   "cell_type": "markdown",
   "metadata": {
    "id": "NBcySp-WK9aP",
    "slideshow": {
     "slide_type": "slide"
    }
   },
   "source": [
    "### 1.4 Cicli *for* e *while*\n",
    "Nella programmazione è utile poter eseguire delle operazioni ripetute con pochi comandi. Per questo si utilizzano i cicli *for* e *while*.\n",
    "Il primo permette di variare una variabile in un intervallo dato ed eseguire delle operazioni in un blocco di comandi"
   ]
  },
  {
   "cell_type": "code",
   "execution_count": 24,
   "metadata": {
    "colab": {
     "base_uri": "https://localhost:8080/"
    },
    "id": "pLspq69bK9aP",
    "outputId": "47c83e39-3015-4988-f6d3-dc4729586372",
    "slideshow": {
     "slide_type": "subslide"
    }
   },
   "outputs": [
    {
     "name": "stdout",
     "output_type": "stream",
     "text": [
      "0\n",
      "1\n",
      "2\n"
     ]
    }
   ],
   "source": [
    "for i in [0,1,2]: \n",
    "    print(i)"
   ]
  },
  {
   "cell_type": "code",
   "execution_count": 25,
   "metadata": {
    "colab": {
     "base_uri": "https://localhost:8080/"
    },
    "id": "5IXsTgUyK9aP",
    "outputId": "134bac16-8367-4c30-ea8b-8eb75d22c1f5",
    "slideshow": {
     "slide_type": "subslide"
    }
   },
   "outputs": [
    {
     "name": "stdout",
     "output_type": "stream",
     "text": [
      "i = 0, t = 0\n",
      "i = 1, t = 1\n",
      "i = 2, t = 3\n",
      "i = 3, t = 6\n",
      "6\n"
     ]
    }
   ],
   "source": [
    "t = 0\n",
    "for i in range(4): # range(n) è una funzione utile per definire un vettore di interi tra 0 e n-1\n",
    "    t += i\n",
    "    print('i = {}, t = {}'.format(i,t))\n",
    "print(t)"
   ]
  },
  {
   "cell_type": "code",
   "execution_count": 26,
   "metadata": {
    "colab": {
     "base_uri": "https://localhost:8080/"
    },
    "id": "V_GD6tFqK9aP",
    "outputId": "c99616f7-b00b-4717-b7ba-b9eccc56e26e",
    "slideshow": {
     "slide_type": "subslide"
    }
   },
   "outputs": [
    {
     "name": "stdout",
     "output_type": "stream",
     "text": [
      "a\n",
      "1\n",
      "3.3\n"
     ]
    }
   ],
   "source": [
    "for i in ['a',1,3.3]: print(i)"
   ]
  },
  {
   "cell_type": "markdown",
   "metadata": {
    "id": "z64rwP7GK9aQ",
    "slideshow": {
     "slide_type": "subslide"
    }
   },
   "source": [
    "*while* invece esegue un blocco di comandi finché una condizione non è soddisfatta"
   ]
  },
  {
   "cell_type": "code",
   "execution_count": 27,
   "metadata": {
    "colab": {
     "base_uri": "https://localhost:8080/"
    },
    "id": "v3OUBYwdK9aQ",
    "outputId": "96505224-0cee-44a0-f7f9-b4462c94b9ec",
    "slideshow": {
     "slide_type": "fragment"
    }
   },
   "outputs": [
    {
     "name": "stdout",
     "output_type": "stream",
     "text": [
      "3\n",
      "2\n",
      "1\n",
      "0\n"
     ]
    }
   ],
   "source": [
    "t = 4\n",
    "while t>0:\n",
    "    t = t-1\n",
    "    print(t)"
   ]
  },
  {
   "cell_type": "markdown",
   "metadata": {
    "id": "QGIJbZZzK9aQ",
    "slideshow": {
     "slide_type": "slide"
    }
   },
   "source": [
    "### 1.5 Esempio Pratico: Media\n",
    "Definiamo una funzione che calcoli la media degli elementi di un vettore"
   ]
  },
  {
   "cell_type": "code",
   "execution_count": 28,
   "metadata": {
    "id": "evlBmnA7K9aQ",
    "slideshow": {
     "slide_type": "fragment"
    }
   },
   "outputs": [],
   "source": [
    "def media(x):\n",
    "    m = 0\n",
    "    for i in x:\n",
    "        m += i # += incrementa la variabile somma di i\n",
    "    m /= len(x) # /= divide la variabile m per len(x)\n",
    "    return m"
   ]
  },
  {
   "cell_type": "code",
   "execution_count": 29,
   "metadata": {
    "colab": {
     "base_uri": "https://localhost:8080/"
    },
    "id": "yDS9Kf6HK9aR",
    "outputId": "ff89ad2d-7a0c-444e-c941-e820ad58b46e",
    "slideshow": {
     "slide_type": "fragment"
    }
   },
   "outputs": [
    {
     "data": {
      "text/plain": [
       "2.142857142857143"
      ]
     },
     "execution_count": 29,
     "metadata": {},
     "output_type": "execute_result"
    }
   ],
   "source": [
    "media([1,2,3,1,2,4,2])"
   ]
  },
  {
   "cell_type": "markdown",
   "metadata": {
    "id": "Qe8HvWXyK9aR",
    "slideshow": {
     "slide_type": "fragment"
    }
   },
   "source": [
    "**Esercizio**: Scrivere una funzione che calcola la deviazione standard degli elementi di un vettore"
   ]
  },
  {
   "cell_type": "markdown",
   "metadata": {
    "id": "XaU5FYqgK9aR",
    "slideshow": {
     "slide_type": "slide"
    }
   },
   "source": [
    "## 2 Operazioni Utili per il Laboratorio\n",
    "\n",
    "Queste lezioni non possono coprire tutti i dettagli di un linguaggio di programmazione così complesso, per cui a seguito dei rudimenti, tratteremo alcuni argomenti specifici di utilità per le esperienze di laboratorio\n",
    "- Disegno di dati e funzioni su un grafico\n",
    "- Interpolazione\n",
    "- Disegno della retta di interpolazione sul grafico\n",
    "- Calcolo del $\\chi^2$"
   ]
  },
  {
   "cell_type": "markdown",
   "metadata": {
    "id": "HYYGdrUzK9aR",
    "slideshow": {
     "slide_type": "slide"
    }
   },
   "source": [
    "### 2.1 Disegno dei dati e funzioni su un grafico\n",
    "\n",
    "Per disegnare i dati su un grafico si può utilizzare la libreria [matplotlib](https://matplotlib.org). In essa sono presenti funzioni per costruire istogrammi e disegnare funzioni."
   ]
  },
  {
   "cell_type": "markdown",
   "metadata": {
    "slideshow": {
     "slide_type": "slide"
    }
   },
   "source": [
    "### 2.1.1 Istogrammi\n",
    "\n",
    "Supponiamo di voler disegnare un istogramma a partire dalle seguenti misure\n",
    "\n",
    "|  |  |  |  |  | \n",
    "| --- | --- | --- | --- | --- | \n",
    "| 3.10 | 2.99 | 2.93 | 3.12 | 3.04 | \n",
    "| 2.97 | 2.87 | 2.78 | 3.09 | 3.19 | \n",
    "| 3.03 | 3.11 | 2.87 | 2.98 | 2.89 | \n",
    "| 2.99 | 2.89 | 2.91 | 3.03 | 3.05 |\n",
    "\n",
    "Per prima cosa costruiamo un vettore con le misure"
   ]
  },
  {
   "cell_type": "code",
   "execution_count": 30,
   "metadata": {
    "id": "b2ulgbnSK9aS",
    "slideshow": {
     "slide_type": "fragment"
    }
   },
   "outputs": [],
   "source": [
    "x = np.array([3.10,2.99,2.93,3.12,3.04,\n",
    "              2.97,2.87,2.78,3.09,3.19,\n",
    "              3.03,3.11,2.87,2.98,2.89,\n",
    "              2.99,2.89,2.91,3.03,3.05])"
   ]
  },
  {
   "cell_type": "markdown",
   "metadata": {
    "id": "zI7_4lISK9aS",
    "slideshow": {
     "slide_type": "subslide"
    }
   },
   "source": [
    "Quindi carichiamo il modulo `pyplot` dal modulo `matplotlib` e lo chiamiamo `plt` per brevità. In questo modulo è presente la funzione [`hist`](https://matplotlib.org/3.3.3/api/_as_gen/matplotlib.pyplot.hist.html) che permette di disegnare un istogramma"
   ]
  },
  {
   "cell_type": "code",
   "execution_count": 31,
   "metadata": {
    "colab": {
     "base_uri": "https://localhost:8080/",
     "height": 333
    },
    "id": "pYwLilrJK9aS",
    "outputId": "cd347309-452f-4ab9-d06a-884c1ebbb081",
    "slideshow": {
     "slide_type": "fragment"
    }
   },
   "outputs": [
    {
     "data": {
      "text/plain": [
       "(array([1., 0., 4., 2., 2., 2., 4., 2., 2., 1.]),\n",
       " array([2.78 , 2.821, 2.862, 2.903, 2.944, 2.985, 3.026, 3.067, 3.108,\n",
       "        3.149, 3.19 ]),\n",
       " <BarContainer object of 10 artists>)"
      ]
     },
     "execution_count": 31,
     "metadata": {},
     "output_type": "execute_result"
    },
    {
     "data": {
      "image/png": "[encoded data removed]",
      "text/plain": [
       "<Figure size 432x288 with 1 Axes>"
      ]
     },
     "metadata": {
      "needs_background": "light"
     },
     "output_type": "display_data"
    }
   ],
   "source": [
    "from matplotlib import pyplot as plt\n",
    "plt.hist(x)"
   ]
  },
  {
   "cell_type": "markdown",
   "metadata": {
    "id": "h00go-woK9aT",
    "slideshow": {
     "slide_type": "fragment"
    }
   },
   "source": [
    "Di base, la funzione disegna raccoglie gli elementi del vettore in un istogramma con 10 intervalli equipollenti.\n",
    "Si osservi come il comando restituisca anche due `array` oltre al disegno dell'istogramma:\n",
    " - il primo `array` contiene il numero di misure che cadono nell'intervallo i-esimo\n",
    " - il secondo `array` contiene gli estremi degli intervalli (n.b. 11 elementi)"
   ]
  },
  {
   "cell_type": "markdown",
   "metadata": {
    "slideshow": {
     "slide_type": "subslide"
    }
   },
   "source": [
    "Si può scegliere di utilizzare meno intervalli aggiungendo l'argomento `bins`"
   ]
  },
  {
   "cell_type": "code",
   "execution_count": 32,
   "metadata": {
    "colab": {
     "base_uri": "https://localhost:8080/",
     "height": 316
    },
    "id": "KkBBe4AsK9aT",
    "outputId": "bda24488-f5a7-415d-8963-0b5ae4f0c978",
    "slideshow": {
     "slide_type": "fragment"
    }
   },
   "outputs": [
    {
     "data": {
      "text/plain": [
       "(array([1., 6., 4., 6., 3.]),\n",
       " array([2.78 , 2.862, 2.944, 3.026, 3.108, 3.19 ]),\n",
       " <BarContainer object of 5 artists>)"
      ]
     },
     "execution_count": 32,
     "metadata": {},
     "output_type": "execute_result"
    },
    {
     "data": {
      "image/png": "[encoded data removed]",
      "text/plain": [
       "<Figure size 432x288 with 1 Axes>"
      ]
     },
     "metadata": {
      "needs_background": "light"
     },
     "output_type": "display_data"
    }
   ],
   "source": [
    "plt.hist(x,bins=5)"
   ]
  },
  {
   "cell_type": "markdown",
   "metadata": {
    "id": "8rBx1csWK9aT",
    "slideshow": {
     "slide_type": "subslide"
    }
   },
   "source": [
    "O addirittura definire intervalli di ampiezza diversa..."
   ]
  },
  {
   "cell_type": "code",
   "execution_count": 33,
   "metadata": {
    "colab": {
     "base_uri": "https://localhost:8080/",
     "height": 282
    },
    "id": "0wOHwBgsK9aT",
    "outputId": "0a75cb6d-d9ea-40ce-9c53-0e4ba2598cca",
    "slideshow": {
     "slide_type": "fragment"
    }
   },
   "outputs": [
    {
     "data": {
      "text/plain": [
       "(array([5., 6., 9.]),\n",
       " array([2.7, 2.9, 3. , 3.2]),\n",
       " <BarContainer object of 3 artists>)"
      ]
     },
     "execution_count": 33,
     "metadata": {},
     "output_type": "execute_result"
    },
    {
     "data": {
      "image/png": "[encoded data removed]",
      "text/plain": [
       "<Figure size 432x288 with 1 Axes>"
      ]
     },
     "metadata": {
      "needs_background": "light"
     },
     "output_type": "display_data"
    }
   ],
   "source": [
    "plt.hist(x,bins=[2.7,2.9,3,3.2])"
   ]
  },
  {
   "cell_type": "markdown",
   "metadata": {
    "id": "7pdTfj1CK9aU",
    "slideshow": {
     "slide_type": "subslide"
    }
   },
   "source": [
    "Supponiamo che i dati siano distribuiti secondo una distribuzione di Gauss, possiamo calcolarne la media e la deviazione standard scrivendo una funzione oppure utilizzando quelle fornite da `numpy`"
   ]
  },
  {
   "cell_type": "code",
   "execution_count": 34,
   "metadata": {
    "colab": {
     "base_uri": "https://localhost:8080/"
    },
    "id": "FNur7NSbK9aU",
    "outputId": "de7d4e30-d4de-46f0-e7f5-e1bad57b63d7",
    "slideshow": {
     "slide_type": "fragment"
    }
   },
   "outputs": [
    {
     "name": "stdout",
     "output_type": "stream",
     "text": [
      "2.9915\n",
      "2.9915\n",
      "x = 2.99 ± 0.10\n",
      "x = 2.99 ± 0.10\n"
     ]
    }
   ],
   "source": [
    "def media(x):\n",
    "    \"\"\"\n",
    "    Media degli elementi di un vettore : somma gli elementi del vettore x e li divide per il loro numero.\n",
    "    \"\"\"\n",
    "    m = 0\n",
    "    for i in x:\n",
    "        m += i # += incrementa la variabile somma di i\n",
    "    m /= len(x) # len() restituisce il numero di elementi del vettore e /= divide la variabile m per len(x)\n",
    "    return m\n",
    "print(media(x))\n",
    "print(np.mean(x))\n",
    "print('x = {0:.2f} ± {1:.2f}'.format(np.mean(x),np.std(x)))\n",
    "print('x = {m:.2f} ± {s:.2f}'.format(m=np.mean(x),s=np.std(x))) # ulteriore esempio di formattazione, si noti la possibilità di scegliere la posizione delle variabili nella stampa"
   ]
  },
  {
   "cell_type": "markdown",
   "metadata": {
    "id": "PuxVRJ80K9aU",
    "slideshow": {
     "slide_type": "fragment"
    }
   },
   "source": [
    "Come atteso, la funzione da noi definita e la funzione di `numpy` forniscono lo stesso risultato.\n",
    "Nell'ultima stampa si è utilizzata anche la funzione `numpy.std` per calcolare la deviazione standard dei dati nel vettore.\n",
    "\n",
    "**Esercizio**: Confrontare il risultato della funzione che calcola la deviazione standard definita al punto 1.5 con l'analoga funzione `numpy.std`"
   ]
  },
  {
   "cell_type": "markdown",
   "metadata": {
    "id": "AaWL3a4AK9aU",
    "slideshow": {
     "slide_type": "slide"
    }
   },
   "source": [
    "### 2.1.2 Sovrapposizione di una funzione al grafico\n",
    "\n",
    "Per disegnare la distribuzione di Gauss corrispondente ai dati nel vettore `x` si può utilizzare la funzione `pyplot.plt` unita alla definizione della funzione da disegnare. Per semplicità costruiamo l'istogramma delle frequenze, così da non dover cambiare la noramlizzazione della funzione di Gauss."
   ]
  },
  {
   "cell_type": "code",
   "execution_count": 35,
   "metadata": {
    "colab": {
     "base_uri": "https://localhost:8080/",
     "height": 300
    },
    "id": "O88ZO2neK9aV",
    "outputId": "d85646f4-e2e2-4454-bd2f-551ffdd0d490",
    "slideshow": {
     "slide_type": "subslide"
    }
   },
   "outputs": [
    {
     "data": {
      "image/png": "[encoded data removed]",
      "text/plain": [
       "<Figure size 432x288 with 1 Axes>"
      ]
     },
     "metadata": {
      "needs_background": "light"
     },
     "output_type": "display_data"
    }
   ],
   "source": [
    "# Definisco la funzione\n",
    "def gaus(x,m,s):\n",
    "    h = 1./s/np.sqrt(2)\n",
    "    z = x-m\n",
    "    return np.exp(-np.power(h*z, 2.)) *h / np.sqrt(np.pi)\n",
    "\n",
    "# Definisco il numero degli intervalli, minimo, massimo e disegno l'istogramma\n",
    "num_bins = 5\n",
    "xmin, xmax = np.floor(10.*min(x))/10, np.ceil(10.*max(x))/10 # scelgo minimo e massimo arrotondando (oss: floor e ceil restituiscono un intero, io voglio arrotondare a 0.1, da cui la moltiplicazione e divisione per 10)\n",
    "plt.hist(x, num_bins, range = [xmin, xmax], alpha=0.5, density=True, label='data') # density=True richiede che l'area dell'istogramma venga normalizzata a 1 ; alpha = 0.5 rende il colore dell'area dell'istogramma sfumato; label = 'data' fornisce un nome all'oggetto disegnato per la legenda\n",
    "\n",
    "# Abbellimento del grafico\n",
    "xt = [round(xmin+0.1*i,1) for i in range(num_bins+1)] # abbellimento del grafico: scelgo i punti dove disegnare gli intervalli\n",
    "plt.xticks(xt, [str(i) for i in xt]) # scrivo le tacchette sull'asse x\n",
    "plt.xlabel('$x_k$ (mm)') # titolo asse x - il testo compreso tra i segni $ viene interpretato come linguaggio LaTeX di tipo matematico (https://en.wikibooks.org/wiki/LaTeX/Mathematics)\n",
    "plt.ylabel('Densità di Frequenza') # titolo asse y\n",
    "\n",
    "# Disegno la funzione\n",
    "mean, sigma = np.mean(x),np.std(x) # calcolo media e deviazione standard\n",
    "t = np.linspace(xmin,xmax) # questa funzione definisce un vettore ad alta densità per calcolare la funzione da disegnare lungo l'asse x\n",
    "plt.plot(t,gaus(t,mean, sigma),label=r\"$G(x;\\mu,\\sigma)$\")\n",
    "plt.legend() # aggiungo una legenda\n",
    "plt.savefig('gauss_hist.png') # salvo l'immagine in un file"
   ]
  },
  {
   "cell_type": "markdown",
   "metadata": {
    "id": "guyafkXpK9aV",
    "slideshow": {
     "slide_type": "slide"
    }
   },
   "source": [
    "### 2.1.3 Disegno di un grafico con barre di errore\n",
    "\n",
    "Nella maggior parte delle esperienze, sarete chiamati a disegnare dei grafici con barre di errore per rappresentare i risultati delle misure. Suppongo di aver misurato il tempo di discesa di un carrellino al variare dell'angolo di inclinazione di un piano inclinato e di aver ottenuto i seguenti risultati\n",
    "\n",
    "|  $\\frac{1}{\\sin\\alpha}$  |  $t^2$ $(s^2)$ |\n",
    "|---|---|\n",
    "| 2.00 | 0.18 ± 0.15 |\n",
    "| 2.37 | 0.22 ± 0.15 |\n",
    "| 2.92 | 0.36 ± 0.15 |\n",
    "| 3.86 | 0.44 ± 0.15 |\n",
    "| 5.76 | 0.66 ± 0.15 |\n",
    "| 11.47 | 1.12 ± 0.15 |\n",
    "\n",
    "Si creano dei vettori con i valori ottenuti:"
   ]
  },
  {
   "cell_type": "code",
   "execution_count": 36,
   "metadata": {
    "id": "GFhMiYolK9aV",
    "slideshow": {
     "slide_type": "fragment"
    }
   },
   "outputs": [],
   "source": [
    "X = np.array([11.47, 5.76, 3.86, 2.92, 2.37, 2.0])\n",
    "Y = np.array([1.12, 0.66, 0.44, 0.36, 0.22, 0.18])\n",
    "sy = 0.15\n",
    "sY = np.array(sy*np.ones(len(Y)))"
   ]
  },
  {
   "cell_type": "markdown",
   "metadata": {
    "id": "SWMWjhUiK9aV",
    "slideshow": {
     "slide_type": "subslide"
    }
   },
   "source": [
    "Quindi si può utilizzare la funzione `pyplot.errorbar` per disegnare il grafico dei valori `Y` corrispondenti a `X` con la barra di errore simmetrica `sY` (ovviamente i vettori devono avere la stessa dimensione perché la funzione dia un risultato)"
   ]
  },
  {
   "cell_type": "code",
   "execution_count": 37,
   "metadata": {
    "colab": {
     "base_uri": "https://localhost:8080/",
     "height": 293
    },
    "id": "-GTacT26K9aW",
    "outputId": "52edd451-cd82-45e2-b911-7c3ea2d3d0eb",
    "scrolled": true,
    "slideshow": {
     "slide_type": "fragment"
    }
   },
   "outputs": [
    {
     "data": {
      "text/plain": [
       "<matplotlib.legend.Legend at 0x1130c4b80>"
      ]
     },
     "execution_count": 37,
     "metadata": {},
     "output_type": "execute_result"
    },
    {
     "data": {
      "image/png": "[encoded data removed]",
      "text/plain": [
       "<Figure size 432x288 with 1 Axes>"
      ]
     },
     "metadata": {
      "needs_background": "light"
     },
     "output_type": "display_data"
    }
   ],
   "source": [
    "plt.errorbar(X,Y,sY, fmt='o', ls='none', label='data')\n",
    "# abbellimenti\n",
    "plt.xlim(left=0)\n",
    "plt.ylim(bottom=0)\n",
    "plt.text(max(X), -0.1*(max(Y)-min(Y)+2*max(sY)), r'$\\frac{1}{\\sin\\alpha}$')\n",
    "plt.text(-0.2*(max(X)-min(X)), max(Y)+max(sY), r'$t^2 (s^2)$')\n",
    "plt.legend()"
   ]
  },
  {
   "cell_type": "markdown",
   "metadata": {
    "id": "8iAuPH5zK9aW",
    "slideshow": {
     "slide_type": "slide"
    }
   },
   "source": [
    "### 2.2 Effettuare un'interpolazione\n",
    "\n",
    "La cosa più semplice per effettuare un'interpolazione è scrivere le funzioni necessarie a partire dalle formule discusse a lezione. In questo esempio si utilizza una retta passante per l'origine $y = kx$:\n",
    "\n",
    "$$\n",
    "k = \\frac{\\sum_{i=1}^N x_iy_i}{\\sum_{i=1}^N x^2_i} \\qquad \\sigma_k^2 =  \\frac{\\sigma_y^2}{\\sum_{i=1}^N x^2_i}\n",
    "$$\n",
    "\n",
    "Si può scrivere una funzione che calcoli $k$ e $\\sigma_k$ a partire dai vettori `X`, `Y` e l'incertezza `sy` oppure eseguire le operazioni richieste in una cella (il vantaggio della funzione è che può essere riutilizzata per vari set di dati senza dover ricopiare le operazioni di volta in volta)."
   ]
  },
  {
   "cell_type": "code",
   "execution_count": 38,
   "metadata": {
    "id": "HEUU_FxDK9aW",
    "slideshow": {
     "slide_type": "subslide"
    }
   },
   "outputs": [],
   "source": [
    "def InterpolazioneLineareOrigine(x,y,sy):\n",
    "    '''\n",
    "    Dati due vettori di pari dimensione x, y e l'incertezza sy si può interpolare la retta passante per l'origine con il metodo dei minimi quadrati\n",
    "    '''\n",
    "    # controllo che x e y abbiano pari dimensione diversa da 0\n",
    "    if len(x) != len(y) or len(x) == 0:\n",
    "        print('I dati inseriti non sono validi')\n",
    "        return 0\n",
    "    if sy ==0 :\n",
    "        print(\"L'incertezza non può essere 0\")\n",
    "        return 0\n",
    "    # calcolo le sommatorie\n",
    "    sumxy = 0\n",
    "    sumx2 = 0\n",
    "    for i in range(len(x)): # range(n) = [0,1,2,..,n-1]\n",
    "        sumxy += x[i]*y[i]\n",
    "        sumx2 += x[i]*x[i]\n",
    "    k = sumxy/sumx2\n",
    "    sk = sy/np.sqrt(sumx2)\n",
    "    return (k,sk)"
   ]
  },
  {
   "cell_type": "markdown",
   "metadata": {
    "id": "CTZ7q34QK9aX",
    "slideshow": {
     "slide_type": "fragment"
    }
   },
   "source": [
    "**Esercizio**: si scriva una funzione per effettuare l'interpolazione di una retta generica\n",
    "\n",
    "**Esercizio**: si scriva una funzione per effettuare l'interpolazione di una retta generica con incertezze variabili"
   ]
  },
  {
   "cell_type": "markdown",
   "metadata": {
    "slideshow": {
     "slide_type": "subslide"
    }
   },
   "source": [
    "Procedo all'interpolazione."
   ]
  },
  {
   "cell_type": "code",
   "execution_count": 39,
   "metadata": {
    "colab": {
     "base_uri": "https://localhost:8080/"
    },
    "id": "Fs9AAxxxK9aX",
    "outputId": "8b5f2418-1979-4208-c608-b31c59bca32f",
    "slideshow": {
     "slide_type": "fragment"
    }
   },
   "outputs": [
    {
     "name": "stdout",
     "output_type": "stream",
     "text": [
      "(0.10253239182248688, 0.010665925249983442)\n",
      "k = 0.10 ± 0.01\n"
     ]
    }
   ],
   "source": [
    "res = InterpolazioneLineareOrigine(X,Y,sy)\n",
    "print(res)\n",
    "print('k = {:.2f} ± {:.2f}'.format(res[0],res[1]))"
   ]
  },
  {
   "cell_type": "markdown",
   "metadata": {
    "id": "N0XGH88nK9aX",
    "slideshow": {
     "slide_type": "slide"
    }
   },
   "source": [
    "### 2.3 Disegno della retta interpolata sui dati\n",
    "\n",
    "Disegno la retta interpolata sui dati, similmente a quanto fatto quando è stata disegnata la funzione di Gauss"
   ]
  },
  {
   "cell_type": "code",
   "execution_count": 40,
   "metadata": {
    "colab": {
     "base_uri": "https://localhost:8080/",
     "height": 293
    },
    "id": "_gXBJDHIK9aY",
    "outputId": "57cb4ad2-223f-4c31-bf35-cde506838944",
    "slideshow": {
     "slide_type": "subslide"
    }
   },
   "outputs": [
    {
     "data": {
      "text/plain": [
       "<matplotlib.legend.Legend at 0x11331ea30>"
      ]
     },
     "execution_count": 40,
     "metadata": {},
     "output_type": "execute_result"
    },
    {
     "data": {
      "image/png": "[encoded data removed]",
      "text/plain": [
       "<Figure size 432x288 with 1 Axes>"
      ]
     },
     "metadata": {
      "needs_background": "light"
     },
     "output_type": "display_data"
    }
   ],
   "source": [
    "# Definisco la funzione che voglio disegnare\n",
    "def line(x,m,q=0):\n",
    "    y = m*x+q\n",
    "    return y\n",
    "\n",
    "# Disegno il grafico con barre di errore\n",
    "plt.errorbar(X,Y,sY, fmt='o', ls='none', label='data')\n",
    "# abbellimenti\n",
    "plt.xlim(left=0)\n",
    "plt.ylim(bottom=0)\n",
    "plt.text(max(X), -0.1*(max(Y)-min(Y)+2*max(sY)), r'$\\frac{1}{\\sin\\alpha}$')\n",
    "plt.text(-0.2*(max(X)-min(X)), max(Y)+max(sY), r'$t^2 (s^2)$')\n",
    "\n",
    "# Disegno la funzione\n",
    "xmin, xmax = 0, max(X)+0.1*(max(X)-min(X))\n",
    "t = np.linspace(xmin,xmax) # questa funzione definisce un vettore ad alta densità per calcolare la funzione da disegnare lungo l'asse x\n",
    "plt.plot(t,line(t,res[0]),label=r\"$y = {:.2f}x$\".format(res[0]))\n",
    "plt.legend() # aggiungo una legenda"
   ]
  },
  {
   "cell_type": "markdown",
   "metadata": {
    "id": "sT7Kq7WdK9aY",
    "slideshow": {
     "slide_type": "slide"
    }
   },
   "source": [
    "### 2.4 Calcolo del $\\chi^2$\n",
    "\n",
    "Per calcolare il $\\chi^2$ si può di nuovo scrivere una funzione (o eseguire le operazioni in una cella):\n",
    "\n",
    "$$\n",
    "\\chi^2_0 = \\sum_{i=1}^N \\left(\\frac{y_i - k x_i}{\\sigma_{y_i}}\\right)^2= \\frac{\\sum_{i=1}^N \\left(y_i - k x_i\\right)^2}{\\sigma_{y}^2}\n",
    "$$"
   ]
  },
  {
   "cell_type": "code",
   "execution_count": 41,
   "metadata": {
    "id": "cAzgHumwK9aY",
    "slideshow": {
     "slide_type": "fragment"
    }
   },
   "outputs": [],
   "source": [
    "def chisq(y,e,sy):\n",
    "    '''\n",
    "    y: vettore delle misure\n",
    "    e: vettore dei valori attesi per i valori di x considerati\n",
    "    sy: incertezza sulle misure\n",
    "    '''\n",
    "    if len(y)!=len(e) or len(y) == 0:\n",
    "        print('I dati inseriti non sono validi')\n",
    "        return 0\n",
    "    if sy ==0 :\n",
    "        print('L\\'incertezza non può essere 0')\n",
    "        return 0\n",
    "    c2 = 0\n",
    "    for i in range(len(y)): c2 = c2 + (y[i]-e[i])*(y[i]-e[i])\n",
    "    c2 /= sy*sy\n",
    "    return c2"
   ]
  },
  {
   "cell_type": "code",
   "execution_count": 42,
   "metadata": {
    "colab": {
     "base_uri": "https://localhost:8080/"
    },
    "id": "UUhZwfImK9aZ",
    "outputId": "a095e189-668f-4248-a9cc-400f4e669195",
    "slideshow": {
     "slide_type": "fragment"
    }
   },
   "outputs": [
    {
     "name": "stdout",
     "output_type": "stream",
     "text": [
      "chi2 = 0.66\n"
     ]
    }
   ],
   "source": [
    "chi2v = chisq(Y,line(X,res[0]),sy)\n",
    "print('chi2 = {:.2f}'.format(chi2v))"
   ]
  },
  {
   "cell_type": "markdown",
   "metadata": {
    "id": "vrMlfCXiK9aZ",
    "slideshow": {
     "slide_type": "subslide"
    }
   },
   "source": [
    "Il test del $\\chi^2$ si può effettuare calcolando il numero di gradi di libertà del problema (n-1 in questo caso) e utilizzando la *classe* `chi2` del *modulo* `scipy.stats` che permette di calcolare la funzione cumulativa (`cdf`) della distribuzione del $\\chi^2$ con *d* gradi di libertà fino ad un dato valore (`chi2v` nel nostro caso)\n",
    "\n",
    "$$\n",
    "P_0 = P(\\chi^2 \\geq \\chi^2_0) = \\int_{\\chi^2_0}^{+\\infty}f(\\chi^2;d)\\mathrm{d}\\chi^2 = 1- \\int_{0}^{\\chi^2_0}f(\\chi^2;d)\\mathrm{d}\\chi^2\n",
    "$$"
   ]
  },
  {
   "cell_type": "code",
   "execution_count": 43,
   "metadata": {
    "colab": {
     "base_uri": "https://localhost:8080/"
    },
    "id": "XdSmIzM6K9aZ",
    "outputId": "7fc80f5b-b242-4d12-8c47-8b53d8a4be9a",
    "slideshow": {
     "slide_type": "fragment"
    }
   },
   "outputs": [
    {
     "name": "stdout",
     "output_type": "stream",
     "text": [
      "P(chi2) = 98.5%\n"
     ]
    }
   ],
   "source": [
    "from scipy.stats import chi2\n",
    "d = len(Y)-1\n",
    "pchi2 = 1-chi2.cdf(chi2v,d)\n",
    "print('P(chi2) = {:.1f}%'.format(100.*pchi2))"
   ]
  },
  {
   "cell_type": "markdown",
   "metadata": {
    "id": "JvBIyK0VK9aZ",
    "slideshow": {
     "slide_type": "slide"
    }
   },
   "source": [
    "## Appendice: Installazione Python"
   ]
  },
  {
   "cell_type": "markdown",
   "metadata": {
    "slideshow": {
     "slide_type": "subslide"
    }
   },
   "source": [
    "### Sistemi Windows\n",
    "Su computer **Windows** il modo più semplice di utilizzare Python è installare [Anaconda Individual Edition](https://www.anaconda.com/products/individual). A seguito dell'installazione e dell'avvio del programma si apre una shell di comando che può essere utilizzata per inserire i comandi da eseguire.\n",
    "Il mio suggerimento è di creare un *Jupyter Notebook* per ciascuna delle esperienze che verranno effettuate."
   ]
  },
  {
   "cell_type": "markdown",
   "metadata": {
    "slideshow": {
     "slide_type": "subslide"
    }
   },
   "source": [
    "### Sistemi UNIX (OSX, Linux)\n",
    "Generalmente python è già installato nel sistema. Talvolta può accadere che la versione di python del sistema sia **python 2**, mentre quella più recente è la versione **3**. Si può verificare la presenza nel sistema di python3 digitando al prompt \n",
    "\n",
    "```\n",
    "$ python3\n",
    "```\n",
    "a seguito del quale dovrebbe apparire qualcosa di simile\n",
    "```\n",
    "Python 3.9.0 (default, Dec  6 2020, 19:27:10) \n",
    "[Clang 12.0.0 (clang-1200.0.32.27)] on darwin\n",
    "Type \"help\", \"copyright\", \"credits\" or \"license\" for more information.\n",
    ">>> \n",
    "```"
   ]
  },
  {
   "cell_type": "markdown",
   "metadata": {
    "slideshow": {
     "slide_type": "subslide"
    }
   },
   "source": [
    "Una volta verificato che nel sistema è presente python3, la cosa più semplice è creare un ambiente virtuale contenente il software che vogliamo utilizzare (*jupyter*, *numpy*, *scipy*, *matplotlib*).\n",
    "\n",
    "```\n",
    "$ python3 -m venv laboratorioI\n",
    "$ source laboratorioI/bin/activate\n",
    "$ python -m pip install --upgrade pip\n",
    "$ export PKGS=(scipy jupyter matplotlib)\n",
    "$ for PKG in $PKGS; do pip install $PKG; done\n",
    "$ deactivate\n",
    "```\n",
    "Questi comandi creano un ambiente virtuale di python3 con i pacchetti *scipy*, *jupyter* e *matplotlib* (e le loro dipendenze).\n",
    "Per attivare l'ambiente virtuale, basta aprire un terminale e avviare il comando `activate` presente in `laboratorioI/bin`."
   ]
  },
  {
   "cell_type": "markdown",
   "metadata": {
    "slideshow": {
     "slide_type": "subslide"
    }
   },
   "source": [
    "Per verificare che l'installazione sia andata a buon fine\n",
    "```\n",
    "laboratorioI $ python\n",
    ">>> import scipy\n",
    ">>>\n",
    "```\n",
    "Se il terminale non dà errori è tutto in ordine.\n",
    "\n",
    "Per aprire una finestra del browser con jupyter notebook, basta inviare il seguente comando da shell\n",
    "```\n",
    "laboratorioI $ jupyter notebook\n",
    "```\n",
    "e si aprirà una pagina simile a questa.\n",
    "\n",
    "Il vantaggio di utilizzare *jupyter notebook* è che si possono alternare celle di testo a celle di codice eseguibile direttamente cliccando <shift+enter>. I file di tipo *jupyter notebook* hanno generalmente la desinenza `.ipynb`. Quando si apre una sessione di `Colaboratory` si apre un file di questo tipo."
   ]
  }
 ],
 "metadata": {
  "celltoolbar": "Slideshow",
  "colab": {
   "provenance": [],
   "toc_visible": true
  },
  "kernelspec": {
   "display_name": "jupyter_kernel",
   "language": "python",
   "name": "jupyter"
  },
  "language_info": {
   "codemirror_mode": {
    "name": "ipython",
    "version": 3
   },
   "file_extension": ".py",
   "mimetype": "text/x-python",
   "name": "python",
   "nbconvert_exporter": "python",
   "pygments_lexer": "ipython3",
   "version": "3.9.16"
  }
 },
 "nbformat": 4,
 "nbformat_minor": 1
}
